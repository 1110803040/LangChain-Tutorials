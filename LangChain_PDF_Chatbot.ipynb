{
  "cells": [
    {
      "cell_type": "markdown",
      "metadata": {
        "colab_type": "text",
        "id": "view-in-github"
      },
      "source": [
        "<a href=\"https://colab.research.google.com/github/sugarforever/LangChain-Tutorials/blob/main/LangChain_PDF_Chatbot.ipynb\" target=\"_parent\"><img src=\"https://colab.research.google.com/assets/colab-badge.svg\" alt=\"Open In Colab\"/></a>"
      ]
    },
    {
      "attachments": {},
      "cell_type": "markdown",
      "metadata": {},
      "source": [
        "该Python notebook利用langchain的QA chain，结合Chroma来实现PDF文档Analysis-and-Comparison-between-Optimism-and-StarkNet.pdf的语义化搜索。\n",
        "\n",
        "该PDF文档共61页。通过本notebook，我们演示该字数规模的文件的语义化索引的OpenAI API开销。\n",
        "\n",
        "使用时，在本地创建`.env`，并如`.env.example`所示，设置有效的OpenAI API Key即可。"
      ]
    },
    {
      "cell_type": "code",
      "execution_count": null,
      "metadata": {
        "id": "Nifwi9FrKb3g"
      },
      "outputs": [],
      "source": [
        "%pip install openai > /dev/null\n",
        "%pip install chromadb > /dev/null\n",
        "%pip install langchain > /dev/null"
      ]
    },
    {
      "cell_type": "code",
      "execution_count": 3,
      "metadata": {
        "id": "5xgbUBve0LuN"
      },
      "outputs": [],
      "source": [
        "from langchain.document_loaders import PyMuPDFLoader"
      ]
    },
    {
      "cell_type": "code",
      "execution_count": 4,
      "metadata": {
        "id": "UpOBdhBrdaiU"
      },
      "outputs": [],
      "source": [
        "PDF_NAME='Analysis-and-Comparison-between-Optimism-and-StarkNet.pdf'\n",
        "def load_pdf():\n",
        "  return PyMuPDFLoader(PDF_NAME).load()"
      ]
    },
    {
      "cell_type": "code",
      "execution_count": 5,
      "metadata": {
        "id": "_-1itVpTY8Gz"
      },
      "outputs": [],
      "source": [
        "docs = load_pdf()"
      ]
    },
    {
      "cell_type": "code",
      "execution_count": null,
      "metadata": {
        "colab": {
          "base_uri": "https://localhost:8080/"
        },
        "id": "33zAThYjY9gA",
        "outputId": "bc6d338b-82e3-461f-be11-04b4f44af8fb"
      },
      "outputs": [],
      "source": [
        "print (f'You have {len(docs)} document(s) in your data')\n",
        "print (f'There are {len(docs[0].page_content)} characters in the first page of your document')\n",
        "\n",
        "total = 0\n",
        "for doc in docs:\n",
        "  total += len(doc.page_content)\n",
        "print (f'There are {total} characters in your document')"
      ]
    },
    {
      "cell_type": "code",
      "execution_count": 6,
      "metadata": {
        "id": "ziV20FzmZpm1"
      },
      "outputs": [],
      "source": [
        "from langchain.text_splitter import RecursiveCharacterTextSplitter\n",
        "\n",
        "text_splitter = RecursiveCharacterTextSplitter(chunk_size=1000, chunk_overlap=0)\n",
        "split_docs = text_splitter.split_documents(docs)"
      ]
    },
    {
      "cell_type": "code",
      "execution_count": null,
      "metadata": {
        "colab": {
          "base_uri": "https://localhost:8080/"
        },
        "id": "WlDqqN_6Z08T",
        "outputId": "c0f4d8f4-2840-41cf-c3fd-dd8da6b9a9fa"
      },
      "outputs": [],
      "source": [
        "print (f'Now you have {len(split_docs)} documents')"
      ]
    },
    {
      "cell_type": "code",
      "execution_count": 7,
      "metadata": {
        "id": "6IOlsXpbaIAw"
      },
      "outputs": [],
      "source": [
        "from langchain.embeddings.openai import OpenAIEmbeddings\n",
        "from langchain.vectorstores import Chroma\n",
        "import os\n",
        "\n",
        "OPENAI_API_KEY = os.environ[\"OPENAI_API_KEY\"]"
      ]
    },
    {
      "cell_type": "code",
      "execution_count": 8,
      "metadata": {
        "id": "bE-KtYTCgkLw"
      },
      "outputs": [],
      "source": [
        "embeddings = OpenAIEmbeddings(openai_api_key=OPENAI_API_KEY)"
      ]
    },
    {
      "cell_type": "code",
      "execution_count": 9,
      "metadata": {
        "id": "hGdpt9LygkLy"
      },
      "outputs": [],
      "source": [
        "persist_directory = 'starknet'\n",
        "collection_name = 'starknet_index'"
      ]
    },
    {
      "cell_type": "code",
      "execution_count": 10,
      "metadata": {},
      "outputs": [],
      "source": [
        "from langchain.callbacks import get_openai_callback"
      ]
    },
    {
      "cell_type": "code",
      "execution_count": 11,
      "metadata": {
        "id": "1mQJJ8HRaf0I",
        "outputId": "d9343337-2df2-49dd-84d3-ac354ee65b7c"
      },
      "outputs": [
        {
          "name": "stderr",
          "output_type": "stream",
          "text": [
            "Using embedded DuckDB with persistence: data will be stored in: starknet\n"
          ]
        },
        {
          "name": "stdout",
          "output_type": "stream",
          "text": [
            "Tokens Used: 0\n",
            "\tPrompt Tokens: 0\n",
            "\tCompletion Tokens: 0\n",
            "Successful Requests: 0\n",
            "Total Cost (USD): $0.0\n"
          ]
        }
      ],
      "source": [
        "with get_openai_callback() as cb:\n",
        "    vectorstore = Chroma.from_documents(split_docs, embeddings, collection_name=collection_name, persist_directory=persist_directory)\n",
        "    vectorstore.persist()\n",
        "    print(cb)\n"
      ]
    },
    {
      "cell_type": "code",
      "execution_count": 12,
      "metadata": {
        "id": "yBAx1_X-beQp"
      },
      "outputs": [],
      "source": [
        "from langchain.llms import OpenAI\n",
        "from langchain.chains.question_answering import load_qa_chain"
      ]
    },
    {
      "cell_type": "code",
      "execution_count": 14,
      "metadata": {
        "id": "V8hds-zybhfc"
      },
      "outputs": [
        {
          "name": "stderr",
          "output_type": "stream",
          "text": [
            "Using embedded DuckDB with persistence: data will be stored in: starknet\n"
          ]
        }
      ],
      "source": [
        "llm = OpenAI(temperature=0, openai_api_key=OPENAI_API_KEY)\n",
        "\n",
        "chain = load_qa_chain(llm, chain_type=\"stuff\")\n",
        "\n",
        "# Load the vectorstore from disk\n",
        "vectordb = Chroma(collection_name=collection_name, persist_directory=persist_directory, embedding_function=embeddings)\n",
        "\n",
        "query = \"What is starknet?\"\n",
        "docs = vectorstore.similarity_search(query, 3, include_metadata=True)"
      ]
    },
    {
      "cell_type": "code",
      "execution_count": 19,
      "metadata": {},
      "outputs": [
        {
          "name": "stdout",
          "output_type": "stream",
          "text": [
            "input_variables=['page_content'] output_parser=None partial_variables={} template='{page_content}' template_format='f-string' validate_template=True\n"
          ]
        }
      ],
      "source": [
        "print(chain.document_prompt)"
      ]
    },
    {
      "cell_type": "code",
      "execution_count": 18,
      "metadata": {
        "id": "K3SlreQ2haC4",
        "outputId": "417ebd17-6bd3-431f-8699-3b9e81cd8911"
      },
      "outputs": [
        {
          "name": "stdout",
          "output_type": "stream",
          "text": [
            "{'source': 'Analysis-and-Comparison-between-Optimism-and-StarkNet.pdf', 'file_path': 'Analysis-and-Comparison-between-Optimism-and-StarkNet.pdf', 'page_number': 36, 'total_pages': 61, 'format': 'PDF 1.4', 'title': '', 'author': '', 'subject': '', 'keywords': '', 'creator': 'LaTeX with hyperref', 'producer': 'dvips + GPL Ghostscript GIT PRERELEASE 9.22', 'creationDate': \"D:20221031205028-04'00'\", 'modDate': \"D:20221031205028-04'00'\", 'trapped': ''}\n",
            "{'source': 'Analysis-and-Comparison-between-Optimism-and-StarkNet.pdf', 'file_path': 'Analysis-and-Comparison-between-Optimism-and-StarkNet.pdf', 'page_number': 52, 'total_pages': 61, 'format': 'PDF 1.4', 'title': '', 'author': '', 'subject': '', 'keywords': '', 'creator': 'LaTeX with hyperref', 'producer': 'dvips + GPL Ghostscript GIT PRERELEASE 9.22', 'creationDate': \"D:20221031205028-04'00'\", 'modDate': \"D:20221031205028-04'00'\", 'trapped': ''}\n",
            "{'source': 'Analysis-and-Comparison-between-Optimism-and-StarkNet.pdf', 'file_path': 'Analysis-and-Comparison-between-Optimism-and-StarkNet.pdf', 'page_number': 54, 'total_pages': 61, 'format': 'PDF 1.4', 'title': '', 'author': '', 'subject': '', 'keywords': '', 'creator': 'LaTeX with hyperref', 'producer': 'dvips + GPL Ghostscript GIT PRERELEASE 9.22', 'creationDate': \"D:20221031205028-04'00'\", 'modDate': \"D:20221031205028-04'00'\", 'trapped': ''}\n"
          ]
        }
      ],
      "source": [
        "for doc in docs:\n",
        "    print(doc.metadata)"
      ]
    },
    {
      "cell_type": "code",
      "execution_count": 20,
      "metadata": {},
      "outputs": [
        {
          "name": "stdout",
          "output_type": "stream",
          "text": [
            "540\n"
          ]
        }
      ],
      "source": [
        "print(chain.prompt_length(docs, question='What is starknet?'))"
      ]
    },
    {
      "cell_type": "code",
      "execution_count": 21,
      "metadata": {
        "id": "zdF03LqphOQY",
        "outputId": "bc596972-7e39-479a-a921-5b17204f4b7f"
      },
      "outputs": [
        {
          "name": "stdout",
          "output_type": "stream",
          "text": [
            " StarkNet is a Validity Rollup developed by StarkWare that uses the STARK proof system to validate its state on Ethereum.\n",
            "Tokens Used: 566\n",
            "\tPrompt Tokens: 540\n",
            "\tCompletion Tokens: 26\n",
            "Successful Requests: 1\n",
            "Total Cost (USD): $0.01132\n"
          ]
        }
      ],
      "source": [
        "with get_openai_callback() as cb:\n",
        "    print(chain.run(input_documents=docs, question=query))\n",
        "    print(cb)"
      ]
    },
    {
      "cell_type": "markdown",
      "metadata": {},
      "source": []
    }
  ],
  "metadata": {
    "colab": {
      "include_colab_link": true,
      "provenance": []
    },
    "kernelspec": {
      "display_name": "Python 3",
      "name": "python3"
    },
    "language_info": {
      "codemirror_mode": {
        "name": "ipython",
        "version": 3
      },
      "file_extension": ".py",
      "mimetype": "text/x-python",
      "name": "python",
      "nbconvert_exporter": "python",
      "pygments_lexer": "ipython3",
      "version": "3.9.16"
    }
  },
  "nbformat": 4,
  "nbformat_minor": 0
}
